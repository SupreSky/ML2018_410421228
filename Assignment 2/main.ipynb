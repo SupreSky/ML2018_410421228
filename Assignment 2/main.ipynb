{
 "cells": [
  {
   "cell_type": "code",
   "execution_count": 8,
   "metadata": {},
   "outputs": [],
   "source": [
    "import numpy as np\n",
    "import sys, io\n",
    "import matplotlib.pyplot as plt\n",
    "from sklearn.utils import shuffle\n",
    "from sklearn.model_selection import train_test_split\n",
    "from sklearn import svm, datasets\n",
    "from sklearn.linear_model import SGDClassifier\n",
    "from sklearn.decomposition import PCA"
   ]
  },
  {
   "cell_type": "code",
   "execution_count": 2,
   "metadata": {},
   "outputs": [],
   "source": [
    "from sklearn.datasets import fetch_mldata\n",
    "mnist = fetch_mldata(\"MNIST original\")"
   ]
  },
  {
   "cell_type": "code",
   "execution_count": 18,
   "metadata": {},
   "outputs": [
    {
     "name": "stdout",
     "output_type": "stream",
     "text": [
      "(60000, 784)\n",
      "(60000,)\n",
      "(10000, 784)\n",
      "(10000,)\n"
     ]
    }
   ],
   "source": [
    "X, Y = mnist.data, mnist.target\n",
    "\n",
    "X, Y = shuffle(X, Y)\n",
    "\n",
    "pca = PCA(svd_solver=\"auto\")\n",
    "\n",
    "X = pca.fit_transform(X)\n",
    "\n",
    "X_train, X_test, Y_train, Y_test = train_test_split(X, Y,\n",
    "                                                    test_size=1/7,\n",
    "                                                    random_state=None)\n",
    "\n",
    "X_train = X_train.astype(\"float\") / 255\n",
    "X_test = X_test.astype(\"float\") / 255\n",
    "\n",
    "# X_train = mnist.data[:60000]\n",
    "# Y_train = mnist.target[:60000]\n",
    "\n",
    "# X_test = mnist.data[60000:]\n",
    "# Y_test = mnist.target[60000:]\n",
    "print(X_train.shape)\n",
    "print(Y_train.shape)\n",
    "print(X_test.shape)\n",
    "print(Y_test.shape)"
   ]
  },
  {
   "cell_type": "code",
   "execution_count": 14,
   "metadata": {},
   "outputs": [
    {
     "name": "stderr",
     "output_type": "stream",
     "text": [
      "[Parallel(n_jobs=1)]: Done  10 out of  10 | elapsed:    9.5s finished\n"
     ]
    }
   ],
   "source": [
    "C = 1.0\n",
    "old_stdout = sys.stdout\n",
    "sys.stdout = mystdout = io.StringIO()\n",
    "# models = (svm.SVC(kernel='linear', C=C),\n",
    "#             svm.LinearSVC(C=C),\n",
    "#             svm.SVC(kernel='rbf', gamma=0.7, C=C),\n",
    "#             svm.SVC(kernel='poly', degree=3, C=C))\n",
    "# models = (clf.fit(X, Y) for clf in models)\n",
    "\n",
    "model = SGDClassifier(alpha=0.001, max_iter=10, verbose=True)\n",
    "model.fit(X_train, Y_train)\n",
    "\n",
    "sys.stdout = old_stdout"
   ]
  },
  {
   "cell_type": "code",
   "execution_count": 15,
   "metadata": {},
   "outputs": [
    {
     "data": {
      "image/png": "[encoded data removed]",
      "text/plain": [
       "<matplotlib.figure.Figure at 0x1b9002c25f8>"
      ]
     },
     "metadata": {},
     "output_type": "display_data"
    }
   ],
   "source": [
    "loss_history = mystdout.getvalue()\n",
    "loss_list = []\n",
    "for line in loss_history.split('\\n'):\n",
    "    if(len(line.split(\"loss: \")) == 1):\n",
    "        continue\n",
    "    loss_list.append(float(line.split(\"loss: \")[-1]))\n",
    "plt.figure()\n",
    "plt.plot(np.arange(len(loss_list)), loss_list)\n",
    "plt.xlabel(\"Time in epochs\")\n",
    "plt.ylabel(\"Loss\")\n",
    "plt.show()"
   ]
  },
  {
   "cell_type": "code",
   "execution_count": 6,
   "metadata": {},
   "outputs": [],
   "source": [
    "def calcAcc(predict, real):\n",
    "    correct = 0\n",
    "    for i in range(Y_test.shape[0]):\n",
    "        if predict[i] == real[i]:\n",
    "            correct += 1\n",
    "    print(correct)\n",
    "    return correct / Y_test.shape[0]"
   ]
  },
  {
   "cell_type": "code",
   "execution_count": 16,
   "metadata": {},
   "outputs": [
    {
     "name": "stdout",
     "output_type": "stream",
     "text": [
      "[7. 8. 1. ... 1. 9. 4.]\n",
      "9056\n",
      "Accuraccy:  0.9056\n"
     ]
    }
   ],
   "source": [
    "P = model.predict(X_test)\n",
    "print(P)\n",
    "print(\"Accuraccy: \", calcAcc(P, Y_test))"
   ]
  },
  {
   "cell_type": "code",
   "execution_count": null,
   "metadata": {},
   "outputs": [],
   "source": []
  }
 ],
 "metadata": {
  "kernelspec": {
   "display_name": "Python 3",
   "language": "python",
   "name": "python3"
  },
  "language_info": {
   "codemirror_mode": {
    "name": "ipython",
    "version": 3
   },
   "file_extension": ".py",
   "mimetype": "text/x-python",
   "name": "python",
   "nbconvert_exporter": "python",
   "pygments_lexer": "ipython3",
   "version": "3.6.2"
  }
 },
 "nbformat": 4,
 "nbformat_minor": 2
}
